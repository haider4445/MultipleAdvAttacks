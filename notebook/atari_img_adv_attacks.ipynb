{
 "cells": [
  {
   "cell_type": "code",
   "execution_count": 1,
   "metadata": {
    "colab": {
     "base_uri": "https://localhost:8080/"
    },
    "id": "heYyaiase-xX",
    "outputId": "79cdc684-4c77-4f16-f6f9-c5667fafddf1"
   },
   "outputs": [
    {
     "name": "stdout",
     "output_type": "stream",
     "text": [
      "Mounted at /content/drive\n"
     ]
    }
   ],
   "source": [
    "from google.colab import drive\n",
    "drive.mount('/content/drive')"
   ]
  },
  {
   "cell_type": "code",
   "execution_count": 2,
   "metadata": {
    "colab": {
     "base_uri": "https://localhost:8080/"
    },
    "id": "L7O3Sn4kfJyB",
    "outputId": "7c8ecdfe-94fa-4497-9fa0-c1d205c08e32"
   },
   "outputs": [
    {
     "name": "stdout",
     "output_type": "stream",
     "text": [
      "/content/drive/My Drive/adversarial_attacks_DRL\n"
     ]
    }
   ],
   "source": [
    "%cd /content/drive/My\\ Drive/adversarial_attacks_DRL"
   ]
  },
  {
   "cell_type": "code",
   "execution_count": null,
   "metadata": {
    "id": "B7GUrGrae4BT"
   },
   "outputs": [],
   "source": [
    "!pip install advertorch\n",
    "!pip install tianshou"
   ]
  },
  {
   "cell_type": "code",
   "execution_count": 4,
   "metadata": {
    "id": "kaxy0OrmHUyu"
   },
   "outputs": [],
   "source": [
    "from advertorch.attacks import *\n",
    "from atari_wrapper import wrap_deepmind\n",
    "import copy\n",
    "import torch\n",
    "from drl_attacks.uniform_attack import uniform_attack_collector\n",
    "from drl_attacks.strategically_timed_attack import strategically_timed_attack_collector\n",
    "from utils import A2CPPONetAdapter"
   ]
  },
  {
   "cell_type": "code",
   "execution_count": 5,
   "metadata": {
    "id": "tKCZvIa9Vw_o"
   },
   "outputs": [],
   "source": [
    "from advertorch.attacks.base import Attack\n",
    "from drl_attacks.base_attack import base_attack_collector\n",
    "import random as rd\n",
    "import gym\n",
    "import time\n",
    "import torch\n",
    "import numpy as np\n",
    "from typing import Any, Dict, List, Union, Optional, Callable\n",
    "from tianshou.policy import BasePolicy\n",
    "\n",
    "\n",
    "class targeted_uniform_attack_collector(base_attack_collector):\n",
    "    \"\"\"\n",
    "    :param policy: an instance of the :class:`~tianshou.policy.BasePolicy`\n",
    "        class.\n",
    "    :param env: a ``gym.Env`` environment or an instance of the\n",
    "        :class:`~tianshou.env.BaseVectorEnv` class.\n",
    "    :param obs_adv_atk: an instance of the :class:`~advertorch.attacks.base.Attack`\n",
    "        class implementing an image adversarial attack.\n",
    "    :param perfect_attack: force adversarial attacks on observations to be\n",
    "        always effective (ignore the ``adv`` param).\n",
    "    :param atk_frequency: float, how frequently attacking env observations\n",
    "    \"\"\"\n",
    "    def __init__(self,\n",
    "                 policy: BasePolicy,\n",
    "                 env: gym.Env,\n",
    "                 obs_adv_atk: Attack,\n",
    "                 perfect_attack: bool = False,\n",
    "                 device: str = 'cuda' if torch.cuda.is_available() else 'cpu',\n",
    "                 atk_frequency: float = 1.\n",
    "                 ):\n",
    "        super().__init__(\n",
    "            policy, env, obs_adv_atk, perfect_attack, device)\n",
    "\n",
    "        self.atk_frequency = atk_frequency\n",
    "        if self.obs_adv_atk is not None:\n",
    "            self.obs_adv_atk.targeted = True\n",
    "\n",
    "    def collect(self,\n",
    "                n_step: int = 0,\n",
    "                n_episode: int = 0,\n",
    "                render: Optional[float] = None\n",
    "                ) -> Dict[str, float]:\n",
    "        assert (n_step and not n_episode) or (not n_step and n_episode), \\\n",
    "            \"One and only one collection number specification is permitted!\"\n",
    "        self.reset_env()\n",
    "        self.reset_attack()\n",
    "        while True:\n",
    "            if render:\n",
    "                self.render()\n",
    "                time.sleep(render)\n",
    "            self.show_warning()\n",
    "            self.predict_next_action()\n",
    "\n",
    "            # START ADVERSARIAL ATTACK\n",
    "            x = rd.uniform(0, 1)\n",
    "            if x < self.atk_frequency:\n",
    "                des_act = [rd.randint(0, self.action_space-1)]\n",
    "                while des_act == self.data.act:\n",
    "                  des_act = [rd.randint(0, self.action_space-1)]\n",
    "                if not self.perfect_attack:\n",
    "                    self.obs_attacks(des_act)\n",
    "                else:\n",
    "                    self.data.act = des_act\n",
    "                if self.data.act == des_act:\n",
    "                    self.succ_attacks += 1\n",
    "                self.n_attacks += 1\n",
    "            self.frames_count += 1\n",
    "            # END ADVERSARIAL ATTACK\n",
    "\n",
    "            self.perform_step()\n",
    "            if self.check_end_attack(n_step, n_episode):\n",
    "                break\n",
    "\n",
    "        return self.get_attack_stats()"
   ]
  },
  {
   "cell_type": "code",
   "execution_count": 6,
   "metadata": {
    "id": "kWUGYFqkl5cc"
   },
   "outputs": [],
   "source": [
    "def make_atari_env_watch(env_name):\n",
    "    return wrap_deepmind(env_name, frame_stack=4,\n",
    "                         episode_life=False, clip_rewards=False)"
   ]
  },
  {
   "cell_type": "code",
   "execution_count": 7,
   "metadata": {
    "id": "n_uQKRdG9v8U"
   },
   "outputs": [],
   "source": [
    "def init_attack(env, policy_type=\"ppo\", device=\"cpu\", attack_type=\"gsm\", eps=0.01, targeted=False):\n",
    "    # load pretrained Pong-PPO policy \n",
    "    model_path = \"log/\" + env + \"/\" + policy_type + \"/policy.pth\"\n",
    "    env = make_atari_env_watch(env)\n",
    "    state_shape = env.observation_space.shape or env.observation_space.n\n",
    "    action_shape = env.action_space.shape or env.action_space.n\n",
    "    policy, _ = torch.load(model_path, map_location=device)\n",
    "    policy.to(device).init(device)\n",
    "\n",
    "    # adapt PPO policy to Advertorch library\n",
    "    if policy_type in [\"a2c\", \"ppo\"]:\n",
    "        adv_net = A2CPPONetAdapter(copy.deepcopy(policy)).to(device)\n",
    "        adv_net.eval()\n",
    "\n",
    "    # define image adversarial attack\n",
    "    if attack_type == \"gsm\":\n",
    "        obs_adv_atk = GradientSignAttack(adv_net, eps=eps*255,\n",
    "                                        clip_min=0, clip_max=255, targeted=targeted)\n",
    "    elif attack_type == \"cw\":\n",
    "        obs_adv_atk = CarliniWagnerL2Attack(adv_net, np.prod(action_shape),\n",
    "                                            confidence=1, max_iterations=100,\n",
    "                                            clip_min=0, clip_max=255,\n",
    "                                            binary_search_steps=8,\n",
    "                                            targeted=targeted)\n",
    "    elif attack_type == \"pgda\":\n",
    "        obs_adv_atk = PGDAttack(adv_net, eps=eps, targeted=targeted,\n",
    "                                clip_min=0, clip_max=255, nb_iter=100,\n",
    "                                eps_iter=0.01)\n",
    "    return policy, obs_adv_atk"
   ]
  },
  {
   "cell_type": "code",
   "execution_count": 8,
   "metadata": {
    "id": "jfL2hCpZjHmP"
   },
   "outputs": [],
   "source": [
    "list_env = [ \"PongNoFrameskip-v4\", \"BreakoutNoFrameskip-v4\", \"MsPacmanNoFrameskip-v4\",\n",
    "            \"SeaquestNoFrameskip-v4\", \"QbertNoFrameskip-v4\", \"EnduroNoFrameskip-v4\",\n",
    "            \"SpaceInvadersNoFrameskip-v4\"]\n",
    "list_atk = [\"gsm\", \"cw\"]\n",
    "list_pol = [\"a2c\", \"ppo\"]\n",
    "\n",
    "def test_untargeted(env, img_atk, policy, eps=0.01, episodes=10):\n",
    "    device = 'cuda:0' if torch.cuda.is_available() else 'cpu'\n",
    "    eps = 255*eps\n",
    "    targeted = False\n",
    "    policy, obs_adv_atk = init_attack(env, policy_type=policy, device=device, attack_type=img_atk, eps=eps, targeted=targeted)\n",
    "    env = make_atari_env_watch(env)\n",
    "    collector = uniform_attack_collector(policy, env, obs_adv_atk, atk_frequency=0.5, device=device)\n",
    "    test_adversarial_policy = collector.collect(n_episode=episodes)\n",
    "    return test_adversarial_policy['succ_atks(%)']\n",
    "  \n",
    "def test_targeted(env, img_atk, policy, eps=0.01, episodes=10):\n",
    "    device = 'cuda:0' if torch.cuda.is_available() else 'cpu'\n",
    "    eps = 255*eps\n",
    "    targeted = True\n",
    "    policy, obs_adv_atk = init_attack(env, policy_type=policy, device=device, attack_type=img_atk, eps=eps, targeted=targeted)\n",
    "    env = make_atari_env_watch(env)\n",
    "    collector = targeted_uniform_attack_collector(policy, env, obs_adv_atk, atk_frequency=0.2, device=device)\n",
    "    test_adversarial_policy = collector.collect(n_episode=episodes)\n",
    "    return test_adversarial_policy['succ_atks(%)']"
   ]
  },
  {
   "cell_type": "markdown",
   "metadata": {
    "id": "aV6m8vjbHhVh"
   },
   "source": [
    "# GSM - Targeted"
   ]
  },
  {
   "cell_type": "code",
   "execution_count": null,
   "metadata": {
    "colab": {
     "base_uri": "https://localhost:8080/"
    },
    "id": "PVAJSO244Xsi",
    "outputId": "dfc2ae99-71cc-45dd-ff15-95e3dec30ad6"
   },
   "outputs": [
    {
     "name": "stdout",
     "output_type": "stream",
     "text": [
      "PPO - Pong - GSM - Untargeted:  1.0\n"
     ]
    }
   ],
   "source": [
    "print(\"PPO - Pong - GSM - Untargeted: \", test_untargeted(\"PongNoFrameskip-v4\", \"gsm\", \"ppo\", eps=0.01, episodes=10))"
   ]
  },
  {
   "cell_type": "code",
   "execution_count": null,
   "metadata": {
    "id": "nZ0BTWHy2X05",
    "colab": {
     "base_uri": "https://localhost:8080/"
    },
    "outputId": "516360c4-82f0-4353-d149-ac56027d12b5"
   },
   "outputs": [
    {
     "name": "stdout",
     "output_type": "stream",
     "text": [
      "PPO - Breakout - GSM - Untargeted:  0.9785714285714285\n"
     ]
    }
   ],
   "source": [
    "print(\"PPO - Breakout - GSM - Untargeted: \", test_untargeted(\"BreakoutNoFrameskip-v4\", \"gsm\", \"ppo\", eps=0.01, episodes=10))"
   ]
  },
  {
   "cell_type": "code",
   "execution_count": null,
   "metadata": {
    "colab": {
     "base_uri": "https://localhost:8080/"
    },
    "id": "M78qQFwceoPE",
    "outputId": "ab940bad-dc96-43f2-f9f5-0b4506d9457b"
   },
   "outputs": [
    {
     "name": "stdout",
     "output_type": "stream",
     "text": [
      "PPO - MsPacman - GSM - Untargeted:  1.0\n"
     ]
    }
   ],
   "source": [
    "print(\"PPO - MsPacman - GSM - Untargeted: \", test_untargeted(\"MsPacmanNoFrameskip-v4\", \"gsm\", \"ppo\", eps=0.01, episodes=10))"
   ]
  },
  {
   "cell_type": "code",
   "execution_count": null,
   "metadata": {
    "id": "9iVfWeDFxiZn",
    "colab": {
     "base_uri": "https://localhost:8080/"
    },
    "outputId": "a2893b43-9f1a-4eae-c903-528f1c206ac0"
   },
   "outputs": [
    {
     "name": "stdout",
     "output_type": "stream",
     "text": [
      "PPO - Seaquest - GSM - Untargeted:  1.0\n"
     ]
    }
   ],
   "source": [
    "print(\"PPO - Seaquest - GSM - Untargeted: \", test_untargeted(\"SeaquestNoFrameskip-v4\", \"gsm\", \"ppo\", eps=0.01, episodes=10))"
   ]
  },
  {
   "cell_type": "code",
   "execution_count": null,
   "metadata": {
    "id": "pYs6jaJPz-vA",
    "colab": {
     "base_uri": "https://localhost:8080/"
    },
    "outputId": "931e6ab9-d21c-4152-de7f-8822f87eba59"
   },
   "outputs": [
    {
     "name": "stdout",
     "output_type": "stream",
     "text": [
      "PPO - Enduro - GSM - Untargeted:  1.0\n"
     ]
    }
   ],
   "source": [
    "print(\"PPO - Enduro - GSM - Untargeted: \", test_untargeted(\"EnduroNoFrameskip-v4\", \"gsm\", \"ppo\", eps=0.01, episodes=10))"
   ]
  },
  {
   "cell_type": "code",
   "execution_count": null,
   "metadata": {
    "id": "BQFItPP-FDVB",
    "colab": {
     "base_uri": "https://localhost:8080/"
    },
    "outputId": "9f56d182-b07d-40d2-d6f9-0a362db093d4"
   },
   "outputs": [
    {
     "name": "stdout",
     "output_type": "stream",
     "text": [
      "PPO - SpaceInvaders - GSM - Untargeted:  0.9951282884053264\n"
     ]
    }
   ],
   "source": [
    "print(\"PPO - SpaceInvaders - GSM - Untargeted: \", test_untargeted(\"SpaceInvadersNoFrameskip-v4\", \"gsm\", \"ppo\", eps=0.01, episodes=10))"
   ]
  },
  {
   "cell_type": "code",
   "execution_count": null,
   "metadata": {
    "colab": {
     "base_uri": "https://localhost:8080/"
    },
    "id": "ab_WC8IUOy42",
    "outputId": "370a9fc8-c3c4-4dfc-e40e-f2c91015269b"
   },
   "outputs": [
    {
     "name": "stdout",
     "output_type": "stream",
     "text": [
      "PPO - Qbert - GSM - Untargeted:  1.0\n"
     ]
    }
   ],
   "source": [
    "print(\"PPO - Qbert - GSM - Untargeted: \", test_untargeted(\"QbertNoFrameskip-v4\", \"gsm\", \"ppo\", eps=0.01, episodes=10))"
   ]
  },
  {
   "cell_type": "markdown",
   "metadata": {
    "id": "MuX8rIwcHcki"
   },
   "source": [
    "# GSM - Targeted"
   ]
  },
  {
   "cell_type": "code",
   "execution_count": null,
   "metadata": {
    "colab": {
     "base_uri": "https://localhost:8080/"
    },
    "id": "Q-Pp2TJuQaSM",
    "outputId": "5e42c2bd-3a86-4fbd-b8d1-138935935b57"
   },
   "outputs": [
    {
     "name": "stdout",
     "output_type": "stream",
     "text": [
      "PPO - Pong - GSM - Targeted:  0.5013093901982791\n"
     ]
    }
   ],
   "source": [
    "print(\"PPO - Pong - GSM - Targeted: \", test_targeted(\"PongNoFrameskip-v4\", \"gsm\", \"ppo\", eps=0.01, episodes=10))"
   ]
  },
  {
   "cell_type": "code",
   "execution_count": null,
   "metadata": {
    "colab": {
     "base_uri": "https://localhost:8080/"
    },
    "id": "a2Wx_pzQSfyH",
    "outputId": "982837b8-9d21-4c2b-bc3a-c57c25ab31b7"
   },
   "outputs": [
    {
     "name": "stdout",
     "output_type": "stream",
     "text": [
      "PPO - Breakout - GSM - Targeted:  0.3951979234263465\n"
     ]
    }
   ],
   "source": [
    "print(\"PPO - Breakout - GSM - Targeted: \", test_targeted(\"BreakoutNoFrameskip-v4\", \"gsm\", \"ppo\", eps=0.01, episodes=10))"
   ]
  },
  {
   "cell_type": "code",
   "execution_count": null,
   "metadata": {
    "colab": {
     "base_uri": "https://localhost:8080/"
    },
    "id": "ODbSGvi00zEX",
    "outputId": "d3940d0b-3591-47da-c5f6-7c48afc018c7"
   },
   "outputs": [
    {
     "name": "stdout",
     "output_type": "stream",
     "text": [
      "PPO - MsPacman - GSM - Targeted:  0.3375870069605568\n"
     ]
    }
   ],
   "source": [
    "print(\"PPO - MsPacman - GSM - Targeted: \", test_targeted(\"MsPacmanNoFrameskip-v4\", \"gsm\", \"ppo\", eps=0.01, episodes=10))"
   ]
  },
  {
   "cell_type": "code",
   "execution_count": null,
   "metadata": {
    "colab": {
     "base_uri": "https://localhost:8080/"
    },
    "id": "1LuxeLmmS4rv",
    "outputId": "79c9c4b3-26b8-438e-9883-22b1035f9d7a"
   },
   "outputs": [
    {
     "name": "stdout",
     "output_type": "stream",
     "text": [
      "PPO - Seaquest - GSM - Targeted:  0.339137422984195\n"
     ]
    }
   ],
   "source": [
    "print(\"PPO - Seaquest - GSM - Targeted: \", test_targeted(\"SeaquestNoFrameskip-v4\", \"gsm\", \"ppo\", eps=0.01, episodes=10))"
   ]
  },
  {
   "cell_type": "code",
   "execution_count": null,
   "metadata": {
    "colab": {
     "base_uri": "https://localhost:8080/"
    },
    "id": "9TTYc_tt2vPB",
    "outputId": "78fe8914-161c-402e-ee45-85c3a776bc9c"
   },
   "outputs": [
    {
     "name": "stdout",
     "output_type": "stream",
     "text": [
      "PPO - Enduro - GSM - Targeted:  0.4492622704004818\n"
     ]
    }
   ],
   "source": [
    "print(\"PPO - Enduro - GSM - Targeted: \", test_targeted(\"EnduroNoFrameskip-v4\", \"gsm\", \"ppo\", eps=0.01, episodes=10))"
   ]
  },
  {
   "cell_type": "code",
   "execution_count": null,
   "metadata": {
    "colab": {
     "base_uri": "https://localhost:8080/"
    },
    "id": "sF-P0xbF3Kvd",
    "outputId": "cb9c7615-535c-461f-bae9-2ce9f81a31d5"
   },
   "outputs": [
    {
     "name": "stdout",
     "output_type": "stream",
     "text": [
      "PPO - SpaceInvaders - GSM - Targeted:  0.5375947995666306\n"
     ]
    }
   ],
   "source": [
    "print(\"PPO - SpaceInvaders - GSM - Targeted: \", test_targeted(\"SpaceInvadersNoFrameskip-v4\", \"gsm\", \"ppo\", eps=0.01, episodes=10))"
   ]
  },
  {
   "cell_type": "code",
   "execution_count": null,
   "metadata": {
    "colab": {
     "base_uri": "https://localhost:8080/"
    },
    "id": "jAPoTLCe33G7",
    "outputId": "3b867eeb-59ed-438f-9763-eac6375f5071"
   },
   "outputs": [
    {
     "name": "stdout",
     "output_type": "stream",
     "text": [
      "PPO - Qbert - GSM - Targeted:  0.8012307692307692\n"
     ]
    }
   ],
   "source": [
    "print(\"PPO - Qbert - GSM - Targeted: \", test_targeted(\"QbertNoFrameskip-v4\", \"gsm\", \"ppo\", eps=0.01, episodes=10))"
   ]
  },
  {
   "cell_type": "markdown",
   "metadata": {
    "id": "paBmazDnHW7L"
   },
   "source": [
    "# CW - Targeted"
   ]
  },
  {
   "cell_type": "code",
   "execution_count": null,
   "metadata": {
    "colab": {
     "base_uri": "https://localhost:8080/"
    },
    "id": "VmOlcHyV6G3Q",
    "outputId": "539a0b26-f711-47c4-daf0-cb845ee28fcf"
   },
   "outputs": [
    {
     "name": "stdout",
     "output_type": "stream",
     "text": [
      "PPO - Pong - CW - Targeted:  0.7198515769944341\n"
     ]
    }
   ],
   "source": [
    "print(\"PPO - Pong - CW - Targeted: \", test_targeted(\"PongNoFrameskip-v4\", \"cw\", \"ppo\", eps=0.01, episodes=2))"
   ]
  },
  {
   "cell_type": "code",
   "execution_count": null,
   "metadata": {
    "colab": {
     "base_uri": "https://localhost:8080/"
    },
    "id": "RVnjIM1e7K4s",
    "outputId": "78a15810-9213-416f-f22f-6698b55d54ca"
   },
   "outputs": [
    {
     "name": "stdout",
     "output_type": "stream",
     "text": [
      "PPO - Breakout - CW - Targeted:  0.4701195219123506\n"
     ]
    }
   ],
   "source": [
    "print(\"PPO - Breakout - CW - Targeted: \", test_targeted(\"BreakoutNoFrameskip-v4\", \"cw\", \"ppo\", eps=0.01, episodes=1))"
   ]
  },
  {
   "cell_type": "code",
   "execution_count": null,
   "metadata": {
    "colab": {
     "base_uri": "https://localhost:8080/"
    },
    "id": "O7PqGVue9Q-S",
    "outputId": "48726940-fb5f-49d7-cee9-e3adfeab0508"
   },
   "outputs": [
    {
     "name": "stdout",
     "output_type": "stream",
     "text": [
      "PPO - MsPacman - CW - Targeted:  0.29949238578680204\n"
     ]
    }
   ],
   "source": [
    "print(\"PPO - MsPacman - CW - Targeted: \", test_targeted(\"MsPacmanNoFrameskip-v4\", \"cw\", \"ppo\", eps=0.01, episodes=1))"
   ]
  },
  {
   "cell_type": "code",
   "execution_count": null,
   "metadata": {
    "colab": {
     "base_uri": "https://localhost:8080/"
    },
    "id": "IhCWCt1X9fPa",
    "outputId": "4f834632-1205-4714-e021-0bad905372dd"
   },
   "outputs": [
    {
     "name": "stdout",
     "output_type": "stream",
     "text": [
      "PPO - Seaquest - CW - Targeted:  0.4681081081081081\n"
     ]
    }
   ],
   "source": [
    "print(\"PPO - Seaquest - CW - Targeted: \", test_targeted(\"SeaquestNoFrameskip-v4\", \"cw\", \"ppo\", eps=0.01, episodes=1))"
   ]
  },
  {
   "cell_type": "code",
   "execution_count": null,
   "metadata": {
    "colab": {
     "base_uri": "https://localhost:8080/"
    },
    "id": "H219a3VW-JTm",
    "outputId": "092f5a1d-4f70-499b-a09a-21051f5ebcfe"
   },
   "outputs": [
    {
     "name": "stdout",
     "output_type": "stream",
     "text": [
      "PPO - Enduro - CW - Targeted:  0.3360131010867947\n"
     ]
    }
   ],
   "source": [
    "print(\"PPO - Enduro - CW - Targeted: \", test_targeted(\"EnduroNoFrameskip-v4\", \"cw\", \"ppo\", eps=0.01, episodes=1))"
   ]
  },
  {
   "cell_type": "code",
   "execution_count": 10,
   "metadata": {
    "colab": {
     "base_uri": "https://localhost:8080/"
    },
    "id": "NTRXIX4h-oTf",
    "outputId": "ffae2b6c-c390-4257-8253-2d6e9326cb98"
   },
   "outputs": [
    {
     "name": "stdout",
     "output_type": "stream",
     "text": [
      "PPO - SpaceInvaders - CW - Targeted:  0.2544642857142857\n"
     ]
    }
   ],
   "source": [
    "print(\"PPO - SpaceInvaders - CW - Targeted: \", test_targeted(\"SpaceInvadersNoFrameskip-v4\", \"cw\", \"ppo\", eps=0.01, episodes=1))"
   ]
  },
  {
   "cell_type": "code",
   "execution_count": 9,
   "metadata": {
    "colab": {
     "base_uri": "https://localhost:8080/"
    },
    "id": "AQaTjX-X-y1-",
    "outputId": "fde66b8a-692b-467f-d437-bd89d21ab1a6"
   },
   "outputs": [
    {
     "name": "stdout",
     "output_type": "stream",
     "text": [
      "PPO - Qbert - CW - Targeted:  0.40425531914893614\n"
     ]
    }
   ],
   "source": [
    "print(\"PPO - Qbert - CW - Targeted: \", test_targeted(\"QbertNoFrameskip-v4\", \"cw\", \"ppo\", eps=0.01, episodes=1))"
   ]
  },
  {
   "cell_type": "markdown",
   "metadata": {
    "id": "d1Vbjuu1HP-o"
   },
   "source": [
    "# CW - Untargeted"
   ]
  },
  {
   "cell_type": "code",
   "execution_count": null,
   "metadata": {
    "colab": {
     "base_uri": "https://localhost:8080/"
    },
    "id": "WfWS_HTRFGwn",
    "outputId": "8a96af0d-d975-4a8f-ce7b-ca447fc42c09"
   },
   "outputs": [
    {
     "name": "stdout",
     "output_type": "stream",
     "text": [
      "PPO - Pong - CW - Untargeted:  0.8546895640686922\n"
     ]
    }
   ],
   "source": [
    "print(\"PPO - Pong - CW - Untargeted: \", test_untargeted(\"PongNoFrameskip-v4\", \"cw\", \"ppo\", eps=0.01, episodes=1))"
   ]
  },
  {
   "cell_type": "code",
   "execution_count": null,
   "metadata": {
    "colab": {
     "base_uri": "https://localhost:8080/"
    },
    "id": "QnXRGJc3GpCB",
    "outputId": "4f9d6e4b-f6ad-4475-c9ad-0e27abbbd791"
   },
   "outputs": [
    {
     "name": "stdout",
     "output_type": "stream",
     "text": [
      "PPO - Breakout - CW - Untargeted:  0.6911764705882353\n"
     ]
    }
   ],
   "source": [
    "print(\"PPO - Breakout - CW - Untargeted: \", test_untargeted(\"BreakoutNoFrameskip-v4\", \"cw\", \"ppo\", eps=0.01, episodes=2))"
   ]
  },
  {
   "cell_type": "code",
   "execution_count": null,
   "metadata": {
    "colab": {
     "base_uri": "https://localhost:8080/"
    },
    "id": "PWJM2Eh9G0Sp",
    "outputId": "4bcba411-90cf-419e-91bf-64316d103273"
   },
   "outputs": [
    {
     "name": "stdout",
     "output_type": "stream",
     "text": [
      "PPO - MsPacman - CW - Untargeted:  0.8028391167192429\n"
     ]
    }
   ],
   "source": [
    "print(\"PPO - MsPacman - CW - Untargeted: \", test_untargeted(\"MsPacmanNoFrameskip-v4\", \"cw\", \"ppo\", eps=0.01, episodes=2))"
   ]
  },
  {
   "cell_type": "code",
   "execution_count": null,
   "metadata": {
    "colab": {
     "base_uri": "https://localhost:8080/"
    },
    "id": "ghv8dO8nG6IK",
    "outputId": "6faeef03-5efa-4d01-cbbe-1d9f2e1421f3"
   },
   "outputs": [
    {
     "name": "stdout",
     "output_type": "stream",
     "text": [
      "PPO - Seaquest - CW - Untargeted:  0.926110833749376\n"
     ]
    }
   ],
   "source": [
    "print(\"PPO - Seaquest - CW - Untargeted: \", test_untargeted(\"SeaquestNoFrameskip-v4\", \"cw\", \"ppo\", eps=0.01, episodes=2))"
   ]
  },
  {
   "cell_type": "code",
   "execution_count": null,
   "metadata": {
    "id": "tnTdpP8EG_FD"
   },
   "outputs": [],
   "source": [
    "print(\"PPO - Enduro - CW - Untargeted: \", test_untargeted(\"EnduroNoFrameskip-v4\", \"cw\", \"ppo\", eps=0.01, episodes=1))"
   ]
  },
  {
   "cell_type": "code",
   "execution_count": null,
   "metadata": {
    "colab": {
     "base_uri": "https://localhost:8080/"
    },
    "id": "FnQEQuxZHEW2",
    "outputId": "96f3a732-fa93-4c4c-8603-d2f5ee66446e"
   },
   "outputs": [
    {
     "name": "stdout",
     "output_type": "stream",
     "text": [
      "PPO - SpaceInvaders - CW - Untargeted:  0.7832669322709164\n"
     ]
    }
   ],
   "source": [
    "print(\"PPO - SpaceInvaders - CW - Untargeted: \", test_untargeted(\"SpaceInvadersNoFrameskip-v4\", \"cw\", \"ppo\", eps=0.01, episodes=2))"
   ]
  },
  {
   "cell_type": "code",
   "execution_count": null,
   "metadata": {
    "colab": {
     "base_uri": "https://localhost:8080/"
    },
    "id": "laSU9RtlHMnp",
    "outputId": "2530eed4-acea-40bf-bf2a-35f9d5b7aa15"
   },
   "outputs": [
    {
     "name": "stdout",
     "output_type": "stream",
     "text": [
      "PPO - Qbert - CW - Untargeted:  0.8595271210013908\n"
     ]
    }
   ],
   "source": [
    "print(\"PPO - Qbert - CW - Untargeted: \", test_untargeted(\"QbertNoFrameskip-v4\", \"cw\", \"ppo\", eps=0.01, episodes=2))"
   ]
  },
  {
   "cell_type": "markdown",
   "metadata": {
    "id": "LYRk2rGagCif"
   },
   "source": [
    "# PGDA - Targeted"
   ]
  },
  {
   "cell_type": "code",
   "execution_count": 14,
   "metadata": {
    "colab": {
     "base_uri": "https://localhost:8080/"
    },
    "id": "h1HyoG1iaupq",
    "outputId": "a4708a77-538a-4a4e-cd9f-cbd1e3331618"
   },
   "outputs": [
    {
     "name": "stdout",
     "output_type": "stream",
     "text": [
      "PPO - Pong - PGDA - Targeted:  0.9857142857142858\n"
     ]
    }
   ],
   "source": [
    "print(\"PPO - Pong - PGDA - Targeted: \", test_targeted(\"PongNoFrameskip-v4\", \"pgda\", \"ppo\", eps=0.01, episodes=2))"
   ]
  },
  {
   "cell_type": "code",
   "execution_count": 13,
   "metadata": {
    "colab": {
     "base_uri": "https://localhost:8080/"
    },
    "id": "YQUny3TWemN2",
    "outputId": "95ea9630-668c-4f98-a2a9-7d71e8afbe5f"
   },
   "outputs": [
    {
     "name": "stdout",
     "output_type": "stream",
     "text": [
      "PPO - Breakout - PGDA - Targeted:  0.8297872340425532\n"
     ]
    }
   ],
   "source": [
    "print(\"PPO - Breakout - PGDA - Targeted: \", test_targeted(\"BreakoutNoFrameskip-v4\", \"pgda\", \"ppo\", eps=0.01, episodes=2))"
   ]
  },
  {
   "cell_type": "code",
   "execution_count": 12,
   "metadata": {
    "colab": {
     "base_uri": "https://localhost:8080/"
    },
    "id": "3GlDmP8re9Mn",
    "outputId": "88099dea-07bb-4743-d301-6b90e2f1d8d1"
   },
   "outputs": [
    {
     "name": "stdout",
     "output_type": "stream",
     "text": [
      "PPO - MsPacman - PGDA - Targeted:  0.36645962732919257\n"
     ]
    }
   ],
   "source": [
    "print(\"PPO - MsPacman - PGDA - Targeted: \", test_targeted(\"MsPacmanNoFrameskip-v4\", \"pgda\", \"ppo\", eps=0.01, episodes=2))"
   ]
  },
  {
   "cell_type": "code",
   "execution_count": null,
   "metadata": {
    "colab": {
     "base_uri": "https://localhost:8080/"
    },
    "id": "Pfj9DvkzfaTs",
    "outputId": "deb7fbdd-a800-4f55-ca23-c3b2dacb8841"
   },
   "outputs": [
    {
     "name": "stdout",
     "output_type": "stream",
     "text": [
      "PPO - Seaquest - PGDA - Targeted:  0.49728555917481\n"
     ]
    }
   ],
   "source": [
    "print(\"PPO - Seaquest - PGDA - Targeted: \", test_targeted(\"SeaquestNoFrameskip-v4\", \"pgda\", \"ppo\", eps=0.01, episodes=2))"
   ]
  },
  {
   "cell_type": "code",
   "execution_count": null,
   "metadata": {
    "colab": {
     "base_uri": "https://localhost:8080/"
    },
    "id": "2FEQm0SHfkkC",
    "outputId": "4a1bbb84-a53e-412d-9104-1db08f79e1dc"
   },
   "outputs": [
    {
     "name": "stdout",
     "output_type": "stream",
     "text": [
      "PPO - Enduro - PGDA - Targeted:  0.35488611315209406\n"
     ]
    }
   ],
   "source": [
    "print(\"PPO - Enduro - PGDA - Targeted: \", test_targeted(\"EnduroNoFrameskip-v4\", \"pgda\", \"ppo\", eps=0.01, episodes=2))"
   ]
  },
  {
   "cell_type": "code",
   "execution_count": null,
   "metadata": {
    "colab": {
     "base_uri": "https://localhost:8080/"
    },
    "id": "0Juu9wpcfsCX",
    "outputId": "a27d970b-053e-4199-834e-df9c4f95bada"
   },
   "outputs": [
    {
     "name": "stdout",
     "output_type": "stream",
     "text": [
      "PPO - SpaceInvaders - PGDA - Targeted:  0.6666666666666666\n"
     ]
    }
   ],
   "source": [
    "print(\"PPO - SpaceInvaders - PGDA - Targeted: \", test_targeted(\"SpaceInvadersNoFrameskip-v4\", \"pgda\", \"ppo\", eps=0.01, episodes=1))"
   ]
  },
  {
   "cell_type": "code",
   "execution_count": null,
   "metadata": {
    "colab": {
     "base_uri": "https://localhost:8080/"
    },
    "id": "4nfLJ4WTf7x0",
    "outputId": "bfb77c69-a9b6-4ae0-a6f3-6c31a0c4bee0"
   },
   "outputs": [
    {
     "name": "stdout",
     "output_type": "stream",
     "text": [
      "PPO - Qbert - PGDA - Targeted:  0.5\n"
     ]
    }
   ],
   "source": [
    "print(\"PPO - Qbert - PGDA - Targeted: \", test_targeted(\"QbertNoFrameskip-v4\", \"pgda\", \"ppo\", eps=0.01, episodes=1))"
   ]
  }
 ],
 "metadata": {
  "colab": {
   "name": "atari_img_adv_attacks.ipynb",
   "provenance": [],
   "collapsed_sections": []
  },
  "kernelspec": {
   "name": "python3",
   "display_name": "Python 3"
  },
  "accelerator": "GPU"
 },
 "nbformat": 4,
 "nbformat_minor": 0
}
