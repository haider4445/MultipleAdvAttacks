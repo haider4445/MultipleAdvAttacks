{
 "cells": [
  {
   "cell_type": "code",
   "execution_count": 22,
   "metadata": {
    "id": "MRX_hHvRx-x3",
    "colab": {
     "base_uri": "https://localhost:8080/"
    },
    "outputId": "d4c84e23-69e2-41bb-cbe3-dd87ae47f379"
   },
   "outputs": [
    {
     "name": "stdout",
     "output_type": "stream",
     "text": [
      "Drive already mounted at /content/drive; to attempt to forcibly remount, call drive.mount(\"/content/drive\", force_remount=True).\n"
     ]
    }
   ],
   "source": [
    "from google.colab import drive\n",
    "drive.mount('/content/drive')"
   ]
  },
  {
   "cell_type": "code",
   "execution_count": 23,
   "metadata": {
    "id": "YFBdwmoix_4w",
    "colab": {
     "base_uri": "https://localhost:8080/"
    },
    "outputId": "d6753b4c-f005-4d11-fc1a-4623e56611e7"
   },
   "outputs": [
    {
     "name": "stdout",
     "output_type": "stream",
     "text": [
      "/content/drive/My Drive/adversarial_attacks_DRL\n"
     ]
    }
   ],
   "source": [
    "%cd /content/drive/My\\ Drive/adversarial_attacks_DRL"
   ]
  },
  {
   "cell_type": "code",
   "execution_count": null,
   "metadata": {
    "id": "3-NcNU54kEOY"
   },
   "outputs": [],
   "source": [
    "%cd baselines\n",
    "!pip install .\n",
    "% cd .."
   ]
  },
  {
   "cell_type": "code",
   "execution_count": null,
   "metadata": {
    "id": "ae17NfztTWz-"
   },
   "outputs": [],
   "source": [
    "!pip install git+https://github.com/thu-ml/tianshou.git@master\n",
    "!pip install advertorch"
   ]
  },
  {
   "cell_type": "markdown",
   "metadata": {
    "id": "TB91VClyQ-UG"
   },
   "source": [
    "# Part 0\n",
    "Create a **Pong** environent and import the required libraries"
   ]
  },
  {
   "cell_type": "code",
   "execution_count": 24,
   "metadata": {
    "id": "GmlS_ENNqiD5"
   },
   "outputs": [],
   "source": [
    "from advertorch.attacks import *\n",
    "from atari_wrapper import wrap_deepmind\n",
    "import copy\n",
    "import torch\n",
    "from drl_attacks.uniform_attack import uniform_attack_collector\n",
    "from utils import A2CPPONetAdapter"
   ]
  },
  {
   "cell_type": "code",
   "execution_count": 25,
   "metadata": {
    "id": "aR_Nnd57q1jr"
   },
   "outputs": [],
   "source": [
    "def make_atari_env_watch(env_name):\n",
    "    return wrap_deepmind(env_name, frame_stack=4,\n",
    "                         episode_life=False, clip_rewards=False)\n",
    "\n",
    "# define Pong Atari environment\n",
    "env = make_atari_env_watch(\"PongNoFrameskip-v4\")\n",
    "state_shape = env.observation_space.shape or env.observation_space.n\n",
    "action_shape = env.env.action_space.shape or env.env.action_space.n\n",
    "\n",
    "device = 'cuda' if torch.cuda.is_available() else 'cpu'"
   ]
  },
  {
   "cell_type": "markdown",
   "metadata": {
    "id": "0lGOQ_KJPx_T"
   },
   "source": [
    "# Part 1\n",
    "Attack **Pong-PPO** policy with **Uniform Attack** with 3 different attack frequencies: 0, 0.5, 1."
   ]
  },
  {
   "cell_type": "code",
   "execution_count": 26,
   "metadata": {
    "id": "hIff2tXeq7zs"
   },
   "outputs": [],
   "source": [
    "# load pretrained Pong-PPO policy \n",
    "ppo_pong_path = \"log/PongNoFrameskip-v4/ppo/policy.pth\"\n",
    "ppo_policy, _ = torch.load(ppo_pong_path)\n",
    "ppo_policy.to(device).init(device)\n",
    "\n",
    "# adapt PPO policy to Advertorch library\n",
    "ppo_adv_net = A2CPPONetAdapter(copy.deepcopy(ppo_policy)).to(device)\n",
    "ppo_adv_net.eval()\n",
    "\n",
    "# define image adversarial attack\n",
    "eps = 0.1\n",
    "obs_adv_atk = GradientSignAttack(ppo_adv_net, eps=eps*255,\n",
    "                                 clip_min=0, clip_max=255, targeted=False)\n",
    "\n",
    "# define RL adversarial attack\n",
    "collector = uniform_attack_collector(policy, env, obs_adv_atk,\n",
    "                                     perfect_attack=False,\n",
    "                                     atk_frequency=0.5,\n",
    "                                     device=device)"
   ]
  },
  {
   "cell_type": "code",
   "execution_count": 27,
   "metadata": {
    "colab": {
     "base_uri": "https://localhost:8080/"
    },
    "id": "t8RxZMScXcLR",
    "outputId": "806dc411-b157-4583-fb74-69da395ddfd7"
   },
   "outputs": [
    {
     "name": "stdout",
     "output_type": "stream",
     "text": [
      "attack frequency (%) = 0.4958366693354684\n",
      "number of attacks = 619.3\n",
      "number of successful attacks (%) = 1.0\n",
      "reward = -18.1\n"
     ]
    }
   ],
   "source": [
    "# perform uniform attack with attack frequency of 0.5\n",
    "collector.atk_frequency = 0.5\n",
    "test_adversarial_policy = collector.collect(n_episode=10)\n",
    "avg_atk_rate = test_adversarial_policy['atk_rate(%)']\n",
    "avg_rew = test_adversarial_policy['rew']\n",
    "avg_num_atks = test_adversarial_policy['n_atks']\n",
    "avg_succ_atks_rate = test_adversarial_policy['succ_atks(%)']\n",
    "print(\"attack frequency (%) =\", avg_atk_rate)\n",
    "print(\"number of attacks =\", avg_num_atks)\n",
    "print(\"number of successful attacks (%) =\", avg_succ_atks_rate)\n",
    "print(\"reward =\", avg_rew)"
   ]
  },
  {
   "cell_type": "code",
   "execution_count": null,
   "metadata": {
    "colab": {
     "base_uri": "https://localhost:8080/"
    },
    "id": "veYUZ9Qtq_0N",
    "outputId": "63821b69-9759-48a2-c714-cdca3609f2e4"
   },
   "outputs": [
    {
     "name": "stdout",
     "output_type": "stream",
     "text": [
      "attack frequency (%) = 1.0\n",
      "number of attacks = 855.3\n",
      "number of successful attacks (%) = 1.0\n",
      "reward = -20.9\n"
     ]
    }
   ],
   "source": [
    "# perform uniform attack with attack frequency of 1\n",
    "collector.atk_frequency = 1.\n",
    "test_adversarial_policy = collector.collect(n_episode=10)\n",
    "avg_atk_rate = test_adversarial_policy['atk_rate(%)']\n",
    "avg_rew = test_adversarial_policy['rew']\n",
    "avg_num_atks = test_adversarial_policy['n_atks']\n",
    "avg_succ_atks_rate = test_adversarial_policy['succ_atks(%)']\n",
    "print(\"attack frequency (%) =\", avg_atk_rate)\n",
    "print(\"number of attacks =\", avg_num_atks)\n",
    "print(\"number of successful attacks (%) =\", avg_succ_atks_rate)\n",
    "print(\"reward =\", avg_rew)"
   ]
  },
  {
   "cell_type": "code",
   "execution_count": null,
   "metadata": {
    "colab": {
     "base_uri": "https://localhost:8080/"
    },
    "id": "iBEzATF3qhM3",
    "outputId": "49a4ba8e-c1bc-47d9-edce-1739b0b743ee"
   },
   "outputs": [
    {
     "name": "stdout",
     "output_type": "stream",
     "text": [
      "attack frequency (%) = 0.0\n",
      "number of attacks = 0.0\n",
      "number of successful attacks (%) = 0\n",
      "reward = 20.8\n"
     ]
    }
   ],
   "source": [
    "# perform uniform attack with attack frequency of 0. (no attack is performed)\n",
    "collector.atk_frequency = 0.\n",
    "test_adversarial_policy = collector.collect(n_episode=10)\n",
    "avg_atk_rate = test_adversarial_policy['atk_rate(%)']\n",
    "avg_rew = test_adversarial_policy['rew']\n",
    "avg_num_atks = test_adversarial_policy['n_atks']\n",
    "avg_succ_atks_rate = test_adversarial_policy['succ_atks(%)']\n",
    "print(\"attack frequency (%) =\", avg_atk_rate)\n",
    "print(\"number of attacks =\", avg_num_atks)\n",
    "print(\"number of successful attacks (%) =\", avg_succ_atks_rate)\n",
    "print(\"reward =\", avg_rew)"
   ]
  },
  {
   "cell_type": "markdown",
   "metadata": {
    "id": "cJiqaDpxQS2b"
   },
   "source": [
    "# Part 2\n",
    "Attack **Pong-PPO** policy with **Uniform Attack** with attack frequenc7 0.5. Moreover, let's suppose we don't know the agent policy is PPO and let's perform attacks on a **A2C** policy trained on the same environment."
   ]
  },
  {
   "cell_type": "code",
   "execution_count": 28,
   "metadata": {
    "id": "B-Y3XXabtiN6"
   },
   "outputs": [],
   "source": [
    "# load pretrained Pong-A2C policy \n",
    "a2c_pong_path = \"log/PongNoFrameskip-v4/a2c/policy.pth\"\n",
    "a2c_policy, _ = torch.load(a2c_pong_path)\n",
    "a2c_policy.to(device).init(device)\n",
    "\n",
    "# adapt PPO policy to Advertorch library\n",
    "a2c_adv_net = A2CPPONetAdapter(copy.deepcopy(a2c_policy)).to(device)\n",
    "a2c_adv_net.eval()\n",
    "\n",
    "# define image adversarial attack\n",
    "eps = 0.1\n",
    "obs_adv_atk = GradientSignAttack(a2c_adv_net, eps=eps*255,\n",
    "                                 clip_min=0, clip_max=255, targeted=False)\n",
    "\n",
    "# define RL adversarial attack\n",
    "collector = uniform_attack_collector(policy, env, obs_adv_atk,\n",
    "                                     perfect_attack=False,\n",
    "                                     atk_frequency=0.5,\n",
    "                                     device=device)"
   ]
  },
  {
   "cell_type": "code",
   "execution_count": 20,
   "metadata": {
    "colab": {
     "base_uri": "https://localhost:8080/"
    },
    "id": "AzbKpmneOTB5",
    "outputId": "2c20ed4b-bac8-491d-e8b9-a8b935fb76a3"
   },
   "outputs": [
    {
     "name": "stdout",
     "output_type": "stream",
     "text": [
      "attack frequency (%) = 0.5018479033404406\n",
      "number of attacks = 706.1\n",
      "number of successful attacks (%) = 0.7777935136666194\n",
      "reward = -17.1\n"
     ]
    }
   ],
   "source": [
    "# perform uniform attack with attack frequency of 0.5\n",
    "collector.atk_frequency = 0.5\n",
    "test_adversarial_policy = collector.collect(n_episode=10)\n",
    "avg_atk_rate = test_adversarial_policy['atk_rate(%)']\n",
    "avg_rew = test_adversarial_policy['rew']\n",
    "avg_num_atks = test_adversarial_policy['n_atks']\n",
    "avg_succ_atks_rate = test_adversarial_policy['succ_atks(%)']\n",
    "print(\"attack frequency (%) =\", avg_atk_rate)\n",
    "print(\"number of attacks =\", avg_num_atks)\n",
    "print(\"number of successful attacks (%) =\", avg_succ_atks_rate)\n",
    "print(\"reward =\", avg_rew)"
   ]
  }
 ],
 "metadata": {
  "accelerator": "GPU",
  "colab": {
   "name": "Atari_uniform_attack.ipynb",
   "provenance": [],
   "collapsed_sections": []
  },
  "kernelspec": {
   "display_name": "Python 3",
   "name": "python3"
  }
 },
 "nbformat": 4,
 "nbformat_minor": 0
}
